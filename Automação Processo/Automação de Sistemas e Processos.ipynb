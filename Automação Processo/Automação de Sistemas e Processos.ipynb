{
 "cells": [
  {
   "cell_type": "markdown",
   "id": "a7447279",
   "metadata": {},
   "source": [
    "# Automação de Sistemas e Processos com Python\n",
    "\n",
    "### Desafio:\n",
    "\n",
    "Para controle de custos, todos os dias, seu chefe pede um relatório com todas as compras de mercadorias da empresa.\n",
    "O seu trabalho, como analista, é enviar um e-mail para ele, assim que começar a trabalhar, com o total gasto, a quantidade de produtos compradas e o preço médio dos produtos.\n",
    "\n",
    "E-mail do seu chefe: para o nosso exercício, coloque um e-mail seu como sendo o e-mail do seu chefe<br>\n",
    "Link de acesso ao sistema da empresa: https://pages.hashtagtreinamentos.com/aula1-intensivao-sistema\n",
    "\n",
    "Para resolver isso, vamos usar o pyautogui, uma biblioteca de automação de comandos do mouse e do teclado"
   ]
  },
  {
   "cell_type": "code",
   "execution_count": 66,
   "id": "ca33d7af",
   "metadata": {},
   "outputs": [],
   "source": [
    "import pyautogui as pg\n",
    "from time import sleep\n",
    "import pyperclip\n",
    "\n",
    "# Acessar o Sistema da Empresa\n",
    "pg.hotkey('ctrl', 't')\n",
    "pg.write(r'https://pages.hashtagtreinamentos.com/aula1-intensivao-sistema')\n",
    "pg.press('enter')\n",
    "sleep(10) # 10 seg por que o sistema estava sobrecarregado\n",
    "\n",
    "# Fazer login no Sistema\n",
    "pg.click(x=3283, y=422)\n",
    "pg.write('login')\n",
    "pg.press('tab')\n",
    "pg.write('senha')\n",
    "sleep(2)\n",
    "pg.click(x=3281, y=617)\n",
    "sleep(5)\n",
    "\n",
    "# Baixar a base de dados\n",
    "pg.click(x=2885, y=358)\n",
    "pg.click(x=3031, y=211)\n",
    "sleep(5)"
   ]
  },
  {
   "cell_type": "code",
   "execution_count": 67,
   "id": "5064ec99",
   "metadata": {},
   "outputs": [],
   "source": [
    "# Calcular os indicadores\n",
    "import pandas as pd\n",
    "\n",
    "tabela = pd.read_csv(r'C:\\Users\\jvito\\Downloads\\Compras.csv', sep=';')\n",
    "total_gasto = tabela['ValorFinal'].sum()\n",
    "quantidade = tabela['Quantidade'].sum()\n",
    "preco_medio = total_gasto / quantidade\n",
    "sleep(5)"
   ]
  },
  {
   "cell_type": "code",
   "execution_count": 68,
   "id": "2e9d9f4f",
   "metadata": {},
   "outputs": [],
   "source": [
    "# Enviar o e-mail para o chefe\n",
    "\n",
    "pg.hotkey('ctrl', 't')\n",
    "pg.write(r'https://mail.google.com/mail/u/0/#inbox')\n",
    "pg.press('enter')\n",
    "sleep(5)\n",
    "\n",
    "pg.click(x=2488, y=208)\n",
    "sleep(2)\n",
    "\n",
    "pg.write('vitor.avelar@dcx.ufpb.br')\n",
    "pg.press('tab')\n",
    "sleep(2)\n",
    "pg.press('tab')\n",
    "pyperclip.copy('Relatório de Vendas')\n",
    "pg.hotkey('ctrl', 'v')\n",
    "pg.press('tab')\n",
    "\n",
    "texto = f\"\"\"\n",
    "Prezados, \n",
    "\n",
    "Segue o relatório de compras\n",
    "\n",
    "Total Gasto: R${total_gasto:,.2f}\n",
    "Quantidade: {quantidade:,}\n",
    "Preço Médio: R${preco_medio:,.2f}\n",
    "\n",
    "Qualquer dúvida é só falar, \n",
    "Att,. \n",
    "João Vitor Avelar\n",
    "\"\"\"\n",
    "pyperclip.copy(texto)\n",
    "pg.hotkey('ctrl', 'v')\n",
    "\n",
    "pg.hotkey('ctrl', 'enter')"
   ]
  },
  {
   "cell_type": "code",
   "execution_count": 69,
   "id": "f297fa03",
   "metadata": {
    "scrolled": true
   },
   "outputs": [
    {
     "name": "stdout",
     "output_type": "stream",
     "text": [
      "Point(x=2880, y=259)\n"
     ]
    }
   ],
   "source": [
    "sleep(5)\n",
    "print(pg.position())"
   ]
  },
  {
   "cell_type": "code",
   "execution_count": null,
   "id": "f52f37e0",
   "metadata": {},
   "outputs": [],
   "source": []
  }
 ],
 "metadata": {
  "kernelspec": {
   "display_name": "Python 3 (ipykernel)",
   "language": "python",
   "name": "python3"
  },
  "language_info": {
   "codemirror_mode": {
    "name": "ipython",
    "version": 3
   },
   "file_extension": ".py",
   "mimetype": "text/x-python",
   "name": "python",
   "nbconvert_exporter": "python",
   "pygments_lexer": "ipython3",
   "version": "3.10.9"
  }
 },
 "nbformat": 4,
 "nbformat_minor": 5
}
